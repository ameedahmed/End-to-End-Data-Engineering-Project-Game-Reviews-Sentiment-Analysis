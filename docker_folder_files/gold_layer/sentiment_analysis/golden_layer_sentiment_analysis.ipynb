{
  "cells": [
    {
      "cell_type": "code",
      "execution_count": 1,
      "metadata": {
        "colab": {
          "base_uri": "https://localhost:8080/",
          "height": 1000
        },
        "collapsed": true,
        "id": "trSJf_3TqgWB",
        "outputId": "4e831a74-6f7f-4def-f271-7a59c051cb6c"
      },
      "outputs": [
        {
          "name": "stdout",
          "output_type": "stream",
          "text": [
            "Requirement already satisfied: awscli in /Users/ameedahmed/Desktop/my_lambda_docker/.venv/lib/python3.12/site-packages (1.42.50)\n",
            "Requirement already satisfied: boto3 in /Users/ameedahmed/Desktop/my_lambda_docker/.venv/lib/python3.12/site-packages (1.40.50)\n",
            "Requirement already satisfied: s3 in /Users/ameedahmed/Desktop/my_lambda_docker/.venv/lib/python3.12/site-packages (3.0.0)\n",
            "Requirement already satisfied: s3fs in /Users/ameedahmed/Desktop/my_lambda_docker/.venv/lib/python3.12/site-packages (0.4.2)\n",
            "Requirement already satisfied: setfit in /Users/ameedahmed/Desktop/my_lambda_docker/.venv/lib/python3.12/site-packages (1.1.3)\n",
            "Requirement already satisfied: botocore==1.40.50 in /Users/ameedahmed/Desktop/my_lambda_docker/.venv/lib/python3.12/site-packages (from awscli) (1.40.50)\n",
            "Requirement already satisfied: docutils<=0.19,>=0.18.1 in /Users/ameedahmed/Desktop/my_lambda_docker/.venv/lib/python3.12/site-packages (from awscli) (0.19)\n",
            "Requirement already satisfied: s3transfer<0.15.0,>=0.14.0 in /Users/ameedahmed/Desktop/my_lambda_docker/.venv/lib/python3.12/site-packages (from awscli) (0.14.0)\n",
            "Requirement already satisfied: PyYAML<6.1,>=3.10 in /Users/ameedahmed/Desktop/my_lambda_docker/.venv/lib/python3.12/site-packages (from awscli) (6.0.3)\n",
            "Requirement already satisfied: colorama<0.4.7,>=0.2.5 in /Users/ameedahmed/Desktop/my_lambda_docker/.venv/lib/python3.12/site-packages (from awscli) (0.4.6)\n",
            "Requirement already satisfied: rsa<4.8,>=3.1.2 in /Users/ameedahmed/Desktop/my_lambda_docker/.venv/lib/python3.12/site-packages (from awscli) (4.7.2)\n",
            "Requirement already satisfied: jmespath<2.0.0,>=0.7.1 in /Users/ameedahmed/Desktop/my_lambda_docker/.venv/lib/python3.12/site-packages (from botocore==1.40.50->awscli) (1.0.1)\n",
            "Requirement already satisfied: python-dateutil<3.0.0,>=2.1 in /Users/ameedahmed/Desktop/my_lambda_docker/.venv/lib/python3.12/site-packages (from botocore==1.40.50->awscli) (2.9.0.post0)\n",
            "Requirement already satisfied: urllib3!=2.2.0,<3,>=1.25.4 in /Users/ameedahmed/Desktop/my_lambda_docker/.venv/lib/python3.12/site-packages (from botocore==1.40.50->awscli) (2.5.0)\n",
            "Requirement already satisfied: six>=1.5 in /Users/ameedahmed/Desktop/my_lambda_docker/.venv/lib/python3.12/site-packages (from python-dateutil<3.0.0,>=2.1->botocore==1.40.50->awscli) (1.17.0)\n",
            "Requirement already satisfied: pyasn1>=0.1.3 in /Users/ameedahmed/Desktop/my_lambda_docker/.venv/lib/python3.12/site-packages (from rsa<4.8,>=3.1.2->awscli) (0.6.1)\n",
            "Requirement already satisfied: requests>=1.2.0 in /Users/ameedahmed/Desktop/my_lambda_docker/.venv/lib/python3.12/site-packages (from s3) (2.32.5)\n",
            "Requirement already satisfied: futures>=2.1.3 in /Users/ameedahmed/Desktop/my_lambda_docker/.venv/lib/python3.12/site-packages (from s3) (3.0.5)\n",
            "Requirement already satisfied: xmltodict>=0.9.0 in /Users/ameedahmed/Desktop/my_lambda_docker/.venv/lib/python3.12/site-packages (from s3) (1.0.2)\n",
            "Requirement already satisfied: sphinx-rtd-theme<1,>=0.1.7 in /Users/ameedahmed/Desktop/my_lambda_docker/.venv/lib/python3.12/site-packages (from s3) (0.5.1)\n",
            "Requirement already satisfied: sphinx in /Users/ameedahmed/Desktop/my_lambda_docker/.venv/lib/python3.12/site-packages (from sphinx-rtd-theme<1,>=0.1.7->s3) (7.3.7)\n",
            "Requirement already satisfied: fsspec>=0.6.0 in /Users/ameedahmed/Desktop/my_lambda_docker/.venv/lib/python3.12/site-packages (from s3fs) (2025.9.0)\n",
            "Requirement already satisfied: datasets>=2.15.0 in /Users/ameedahmed/Desktop/my_lambda_docker/.venv/lib/python3.12/site-packages (from setfit) (4.2.0)\n",
            "Requirement already satisfied: sentence-transformers>=3 in /Users/ameedahmed/Desktop/my_lambda_docker/.venv/lib/python3.12/site-packages (from sentence-transformers[train]>=3->setfit) (5.1.1)\n",
            "Requirement already satisfied: transformers>=4.41.0 in /Users/ameedahmed/Desktop/my_lambda_docker/.venv/lib/python3.12/site-packages (from setfit) (4.57.0)\n",
            "Requirement already satisfied: evaluate>=0.3.0 in /Users/ameedahmed/Desktop/my_lambda_docker/.venv/lib/python3.12/site-packages (from setfit) (0.4.6)\n",
            "Requirement already satisfied: huggingface_hub>=0.24.0 in /Users/ameedahmed/Desktop/my_lambda_docker/.venv/lib/python3.12/site-packages (from setfit) (0.35.3)\n",
            "Requirement already satisfied: scikit-learn in /Users/ameedahmed/Desktop/my_lambda_docker/.venv/lib/python3.12/site-packages (from setfit) (1.7.2)\n",
            "Requirement already satisfied: packaging in /Users/ameedahmed/Desktop/my_lambda_docker/.venv/lib/python3.12/site-packages (from setfit) (25.0)\n",
            "Requirement already satisfied: filelock in /Users/ameedahmed/Desktop/my_lambda_docker/.venv/lib/python3.12/site-packages (from datasets>=2.15.0->setfit) (3.20.0)\n",
            "Requirement already satisfied: numpy>=1.17 in /Users/ameedahmed/Desktop/my_lambda_docker/.venv/lib/python3.12/site-packages (from datasets>=2.15.0->setfit) (2.3.3)\n",
            "Requirement already satisfied: pyarrow>=21.0.0 in /Users/ameedahmed/Desktop/my_lambda_docker/.venv/lib/python3.12/site-packages (from datasets>=2.15.0->setfit) (21.0.0)\n",
            "Requirement already satisfied: dill<0.4.1,>=0.3.0 in /Users/ameedahmed/Desktop/my_lambda_docker/.venv/lib/python3.12/site-packages (from datasets>=2.15.0->setfit) (0.4.0)\n",
            "Requirement already satisfied: pandas in /Users/ameedahmed/Desktop/my_lambda_docker/.venv/lib/python3.12/site-packages (from datasets>=2.15.0->setfit) (2.3.2)\n",
            "Requirement already satisfied: httpx<1.0.0 in /Users/ameedahmed/Desktop/my_lambda_docker/.venv/lib/python3.12/site-packages (from datasets>=2.15.0->setfit) (0.28.1)\n",
            "Requirement already satisfied: tqdm>=4.66.3 in /Users/ameedahmed/Desktop/my_lambda_docker/.venv/lib/python3.12/site-packages (from datasets>=2.15.0->setfit) (4.67.1)\n",
            "Requirement already satisfied: xxhash in /Users/ameedahmed/Desktop/my_lambda_docker/.venv/lib/python3.12/site-packages (from datasets>=2.15.0->setfit) (3.6.0)\n",
            "Requirement already satisfied: multiprocess<0.70.17 in /Users/ameedahmed/Desktop/my_lambda_docker/.venv/lib/python3.12/site-packages (from datasets>=2.15.0->setfit) (0.70.16)\n",
            "Requirement already satisfied: aiohttp!=4.0.0a0,!=4.0.0a1 in /Users/ameedahmed/Desktop/my_lambda_docker/.venv/lib/python3.12/site-packages (from fsspec[http]<=2025.9.0,>=2023.1.0->datasets>=2.15.0->setfit) (3.13.0)\n",
            "Requirement already satisfied: anyio in /Users/ameedahmed/Desktop/my_lambda_docker/.venv/lib/python3.12/site-packages (from httpx<1.0.0->datasets>=2.15.0->setfit) (4.11.0)\n",
            "Requirement already satisfied: certifi in /Users/ameedahmed/Desktop/my_lambda_docker/.venv/lib/python3.12/site-packages (from httpx<1.0.0->datasets>=2.15.0->setfit) (2025.8.3)\n",
            "Requirement already satisfied: httpcore==1.* in /Users/ameedahmed/Desktop/my_lambda_docker/.venv/lib/python3.12/site-packages (from httpx<1.0.0->datasets>=2.15.0->setfit) (1.0.9)\n",
            "Requirement already satisfied: idna in /Users/ameedahmed/Desktop/my_lambda_docker/.venv/lib/python3.12/site-packages (from httpx<1.0.0->datasets>=2.15.0->setfit) (3.10)\n",
            "Requirement already satisfied: h11>=0.16 in /Users/ameedahmed/Desktop/my_lambda_docker/.venv/lib/python3.12/site-packages (from httpcore==1.*->httpx<1.0.0->datasets>=2.15.0->setfit) (0.16.0)\n",
            "Requirement already satisfied: typing-extensions>=3.7.4.3 in /Users/ameedahmed/Desktop/my_lambda_docker/.venv/lib/python3.12/site-packages (from huggingface_hub>=0.24.0->setfit) (4.15.0)\n",
            "Requirement already satisfied: hf-xet<2.0.0,>=1.1.3 in /Users/ameedahmed/Desktop/my_lambda_docker/.venv/lib/python3.12/site-packages (from huggingface_hub>=0.24.0->setfit) (1.1.10)\n",
            "Requirement already satisfied: aiohappyeyeballs>=2.5.0 in /Users/ameedahmed/Desktop/my_lambda_docker/.venv/lib/python3.12/site-packages (from aiohttp!=4.0.0a0,!=4.0.0a1->fsspec[http]<=2025.9.0,>=2023.1.0->datasets>=2.15.0->setfit) (2.6.1)\n",
            "Requirement already satisfied: aiosignal>=1.4.0 in /Users/ameedahmed/Desktop/my_lambda_docker/.venv/lib/python3.12/site-packages (from aiohttp!=4.0.0a0,!=4.0.0a1->fsspec[http]<=2025.9.0,>=2023.1.0->datasets>=2.15.0->setfit) (1.4.0)\n",
            "Requirement already satisfied: attrs>=17.3.0 in /Users/ameedahmed/Desktop/my_lambda_docker/.venv/lib/python3.12/site-packages (from aiohttp!=4.0.0a0,!=4.0.0a1->fsspec[http]<=2025.9.0,>=2023.1.0->datasets>=2.15.0->setfit) (25.4.0)\n",
            "Requirement already satisfied: frozenlist>=1.1.1 in /Users/ameedahmed/Desktop/my_lambda_docker/.venv/lib/python3.12/site-packages (from aiohttp!=4.0.0a0,!=4.0.0a1->fsspec[http]<=2025.9.0,>=2023.1.0->datasets>=2.15.0->setfit) (1.8.0)\n",
            "Requirement already satisfied: multidict<7.0,>=4.5 in /Users/ameedahmed/Desktop/my_lambda_docker/.venv/lib/python3.12/site-packages (from aiohttp!=4.0.0a0,!=4.0.0a1->fsspec[http]<=2025.9.0,>=2023.1.0->datasets>=2.15.0->setfit) (6.7.0)\n",
            "Requirement already satisfied: propcache>=0.2.0 in /Users/ameedahmed/Desktop/my_lambda_docker/.venv/lib/python3.12/site-packages (from aiohttp!=4.0.0a0,!=4.0.0a1->fsspec[http]<=2025.9.0,>=2023.1.0->datasets>=2.15.0->setfit) (0.4.1)\n",
            "Requirement already satisfied: yarl<2.0,>=1.17.0 in /Users/ameedahmed/Desktop/my_lambda_docker/.venv/lib/python3.12/site-packages (from aiohttp!=4.0.0a0,!=4.0.0a1->fsspec[http]<=2025.9.0,>=2023.1.0->datasets>=2.15.0->setfit) (1.22.0)\n",
            "Requirement already satisfied: charset_normalizer<4,>=2 in /Users/ameedahmed/Desktop/my_lambda_docker/.venv/lib/python3.12/site-packages (from requests>=1.2.0->s3) (3.4.3)\n",
            "Requirement already satisfied: torch>=1.11.0 in /Users/ameedahmed/Desktop/my_lambda_docker/.venv/lib/python3.12/site-packages (from sentence-transformers>=3->sentence-transformers[train]>=3->setfit) (2.8.0)\n",
            "Requirement already satisfied: scipy in /Users/ameedahmed/Desktop/my_lambda_docker/.venv/lib/python3.12/site-packages (from sentence-transformers>=3->sentence-transformers[train]>=3->setfit) (1.16.2)\n",
            "Requirement already satisfied: Pillow in /Users/ameedahmed/Desktop/my_lambda_docker/.venv/lib/python3.12/site-packages (from sentence-transformers>=3->sentence-transformers[train]>=3->setfit) (11.3.0)\n",
            "Requirement already satisfied: regex!=2019.12.17 in /Users/ameedahmed/Desktop/my_lambda_docker/.venv/lib/python3.12/site-packages (from transformers>=4.41.0->setfit) (2025.9.18)\n",
            "Requirement already satisfied: tokenizers<=0.23.0,>=0.22.0 in /Users/ameedahmed/Desktop/my_lambda_docker/.venv/lib/python3.12/site-packages (from transformers>=4.41.0->setfit) (0.22.1)\n",
            "Requirement already satisfied: safetensors>=0.4.3 in /Users/ameedahmed/Desktop/my_lambda_docker/.venv/lib/python3.12/site-packages (from transformers>=4.41.0->setfit) (0.6.2)\n",
            "Requirement already satisfied: accelerate>=0.20.3 in /Users/ameedahmed/Desktop/my_lambda_docker/.venv/lib/python3.12/site-packages (from sentence-transformers[train]>=3->setfit) (1.10.1)\n",
            "Requirement already satisfied: psutil in /Users/ameedahmed/Desktop/my_lambda_docker/.venv/lib/python3.12/site-packages (from accelerate>=0.20.3->sentence-transformers[train]>=3->setfit) (7.1.0)\n",
            "Requirement already satisfied: setuptools in /Users/ameedahmed/Desktop/my_lambda_docker/.venv/lib/python3.12/site-packages (from torch>=1.11.0->sentence-transformers>=3->sentence-transformers[train]>=3->setfit) (80.9.0)\n",
            "Requirement already satisfied: sympy>=1.13.3 in /Users/ameedahmed/Desktop/my_lambda_docker/.venv/lib/python3.12/site-packages (from torch>=1.11.0->sentence-transformers>=3->sentence-transformers[train]>=3->setfit) (1.14.0)\n",
            "Requirement already satisfied: networkx in /Users/ameedahmed/Desktop/my_lambda_docker/.venv/lib/python3.12/site-packages (from torch>=1.11.0->sentence-transformers>=3->sentence-transformers[train]>=3->setfit) (3.5)\n",
            "Requirement already satisfied: jinja2 in /Users/ameedahmed/Desktop/my_lambda_docker/.venv/lib/python3.12/site-packages (from torch>=1.11.0->sentence-transformers>=3->sentence-transformers[train]>=3->setfit) (3.1.6)\n",
            "Requirement already satisfied: mpmath<1.4,>=1.1.0 in /Users/ameedahmed/Desktop/my_lambda_docker/.venv/lib/python3.12/site-packages (from sympy>=1.13.3->torch>=1.11.0->sentence-transformers>=3->sentence-transformers[train]>=3->setfit) (1.3.0)\n",
            "Requirement already satisfied: sniffio>=1.1 in /Users/ameedahmed/Desktop/my_lambda_docker/.venv/lib/python3.12/site-packages (from anyio->httpx<1.0.0->datasets>=2.15.0->setfit) (1.3.1)\n",
            "Requirement already satisfied: MarkupSafe>=2.0 in /Users/ameedahmed/Desktop/my_lambda_docker/.venv/lib/python3.12/site-packages (from jinja2->torch>=1.11.0->sentence-transformers>=3->sentence-transformers[train]>=3->setfit) (3.0.3)\n",
            "Requirement already satisfied: pytz>=2020.1 in /Users/ameedahmed/Desktop/my_lambda_docker/.venv/lib/python3.12/site-packages (from pandas->datasets>=2.15.0->setfit) (2025.2)\n",
            "Requirement already satisfied: tzdata>=2022.7 in /Users/ameedahmed/Desktop/my_lambda_docker/.venv/lib/python3.12/site-packages (from pandas->datasets>=2.15.0->setfit) (2025.2)\n",
            "Requirement already satisfied: joblib>=1.2.0 in /Users/ameedahmed/Desktop/my_lambda_docker/.venv/lib/python3.12/site-packages (from scikit-learn->setfit) (1.5.2)\n",
            "Requirement already satisfied: threadpoolctl>=3.1.0 in /Users/ameedahmed/Desktop/my_lambda_docker/.venv/lib/python3.12/site-packages (from scikit-learn->setfit) (3.6.0)\n",
            "Requirement already satisfied: sphinxcontrib-applehelp in /Users/ameedahmed/Desktop/my_lambda_docker/.venv/lib/python3.12/site-packages (from sphinx->sphinx-rtd-theme<1,>=0.1.7->s3) (2.0.0)\n",
            "Requirement already satisfied: sphinxcontrib-devhelp in /Users/ameedahmed/Desktop/my_lambda_docker/.venv/lib/python3.12/site-packages (from sphinx->sphinx-rtd-theme<1,>=0.1.7->s3) (2.0.0)\n",
            "Requirement already satisfied: sphinxcontrib-jsmath in /Users/ameedahmed/Desktop/my_lambda_docker/.venv/lib/python3.12/site-packages (from sphinx->sphinx-rtd-theme<1,>=0.1.7->s3) (1.0.1)\n",
            "Requirement already satisfied: sphinxcontrib-htmlhelp>=2.0.0 in /Users/ameedahmed/Desktop/my_lambda_docker/.venv/lib/python3.12/site-packages (from sphinx->sphinx-rtd-theme<1,>=0.1.7->s3) (2.1.0)\n",
            "Requirement already satisfied: sphinxcontrib-serializinghtml>=1.1.9 in /Users/ameedahmed/Desktop/my_lambda_docker/.venv/lib/python3.12/site-packages (from sphinx->sphinx-rtd-theme<1,>=0.1.7->s3) (2.0.0)\n",
            "Requirement already satisfied: sphinxcontrib-qthelp in /Users/ameedahmed/Desktop/my_lambda_docker/.venv/lib/python3.12/site-packages (from sphinx->sphinx-rtd-theme<1,>=0.1.7->s3) (2.0.0)\n",
            "Requirement already satisfied: Pygments>=2.14 in /Users/ameedahmed/Desktop/my_lambda_docker/.venv/lib/python3.12/site-packages (from sphinx->sphinx-rtd-theme<1,>=0.1.7->s3) (2.19.2)\n",
            "Requirement already satisfied: snowballstemmer>=2.0 in /Users/ameedahmed/Desktop/my_lambda_docker/.venv/lib/python3.12/site-packages (from sphinx->sphinx-rtd-theme<1,>=0.1.7->s3) (3.0.1)\n",
            "Requirement already satisfied: babel>=2.9 in /Users/ameedahmed/Desktop/my_lambda_docker/.venv/lib/python3.12/site-packages (from sphinx->sphinx-rtd-theme<1,>=0.1.7->s3) (2.17.0)\n",
            "Requirement already satisfied: alabaster~=0.7.14 in /Users/ameedahmed/Desktop/my_lambda_docker/.venv/lib/python3.12/site-packages (from sphinx->sphinx-rtd-theme<1,>=0.1.7->s3) (0.7.16)\n",
            "Requirement already satisfied: imagesize>=1.3 in /Users/ameedahmed/Desktop/my_lambda_docker/.venv/lib/python3.12/site-packages (from sphinx->sphinx-rtd-theme<1,>=0.1.7->s3) (1.4.1)\n",
            "Note: you may need to restart the kernel to use updated packages.\n"
          ]
        }
      ],
      "source": [
        "pip install awscli boto3 s3 s3fs setfit"
      ]
    },
    {
      "cell_type": "code",
      "execution_count": 2,
      "metadata": {
        "colab": {
          "base_uri": "https://localhost:8080/"
        },
        "collapsed": true,
        "id": "-7WNh-rO87rF",
        "outputId": "b026e5bb-8987-4bb0-8f5a-5c91bcc1dc9f"
      },
      "outputs": [],
      "source": [
        "import getpass\n",
        "import pandas as pd\n",
        "import s3fs\n",
        "import boto3\n",
        "\n",
        "aws_access_key_id = getpass.getpass(\"Enter your AWS Access Key ID: \")\n",
        "aws_secret_access_key = getpass.getpass(\"Enter your AWS Secret Access Key: \")\n",
        "\n",
        "s3r = boto3.resource(\n",
        "    's3',\n",
        "    aws_access_key_id=aws_access_key_id,\n",
        "    aws_secret_access_key=aws_secret_access_key\n",
        ")"
      ]
    },
    {
      "cell_type": "code",
      "execution_count": 3,
      "metadata": {},
      "outputs": [],
      "source": [
        "fs = s3fs.S3FileSystem()\n",
        "bucket_name = \"vgsa\"\n",
        "\n",
        "file_path = \"s3://vgsa/silver/silver_tables_dbt_result/games_sentiment_analysis_silver/top_selling_games_reviews/4488e75a-9522-4ad0-9dee-1e3d32d603e0/20251009_143214_00071_275s7_7642792d-3177-448a-b15b-d53156c8d51e\"\n",
        "df = pd.read_parquet(file_path,filesystem=fs)"
      ]
    },
    {
      "cell_type": "code",
      "execution_count": 4,
      "metadata": {
        "colab": {
          "base_uri": "https://localhost:8080/"
        },
        "id": "qNfaOnfSqgWE",
        "outputId": "0bb432cf-ce01-489d-cd5d-7dfbe70ec7b3"
      },
      "outputs": [],
      "source": [
        "import os\n",
        "os.environ['HF_TOKEN'] = getpass.getpass(\"Enter your HF Token ID: \")"
      ]
    },
    {
      "cell_type": "code",
      "execution_count": null,
      "metadata": {
        "id": "wbIAk8WyqgWF"
      },
      "outputs": [
        {
          "name": "stderr",
          "output_type": "stream",
          "text": [
            "/Users/ameedahmed/Desktop/my_lambda_docker/.venv/lib/python3.12/site-packages/tqdm/auto.py:21: TqdmWarning: IProgress not found. Please update jupyter and ipywidgets. See https://ipywidgets.readthedocs.io/en/stable/user_install.html\n",
            "  from .autonotebook import tqdm as notebook_tqdm\n"
          ]
        }
      ],
      "source": [
        "import os\n",
        "from huggingface_hub import InferenceClient\n",
        "\n",
        "client = InferenceClient(\n",
        "    provider=\"auto\",\n",
        "    api_key=os.environ[\"HF_TOKEN\"])"
      ]
    },
    {
      "cell_type": "code",
      "execution_count": 9,
      "metadata": {
        "collapsed": true,
        "id": "ypbMus7CzGVv"
      },
      "outputs": [
        {
          "name": "stdout",
          "output_type": "stream",
          "text": [
            "[TextClassificationOutputElement(label='Very Positive', score=0.47661980986595154), TextClassificationOutputElement(label='Positive', score=0.36738821864128113), TextClassificationOutputElement(label='Neutral', score=0.1032700464129448), TextClassificationOutputElement(label='Negative', score=0.028763512149453163), TextClassificationOutputElement(label='Very Negative', score=0.023958398029208183)]\n",
            "[TextClassificationOutputElement(label='Positive', score=0.5687246322631836), TextClassificationOutputElement(label='Neutral', score=0.2748916447162628), TextClassificationOutputElement(label='Very Positive', score=0.10861106961965561), TextClassificationOutputElement(label='Negative', score=0.02835247293114662), TextClassificationOutputElement(label='Very Negative', score=0.019420096650719643)]\n",
            "[TextClassificationOutputElement(label='Very Positive', score=0.6060214042663574), TextClassificationOutputElement(label='Positive', score=0.2865768373012543), TextClassificationOutputElement(label='Neutral', score=0.06476221978664398), TextClassificationOutputElement(label='Negative', score=0.02363233081996441), TextClassificationOutputElement(label='Very Negative', score=0.019007181748747826)]\n",
            "[TextClassificationOutputElement(label='Neutral', score=0.4545498192310333), TextClassificationOutputElement(label='Positive', score=0.3334382474422455), TextClassificationOutputElement(label='Very Positive', score=0.1082964763045311), TextClassificationOutputElement(label='Negative', score=0.06865540891885757), TextClassificationOutputElement(label='Very Negative', score=0.03506001457571983)]\n",
            "[TextClassificationOutputElement(label='Very Negative', score=0.35980841517448425), TextClassificationOutputElement(label='Negative', score=0.33569517731666565), TextClassificationOutputElement(label='Neutral', score=0.2076803296804428), TextClassificationOutputElement(label='Positive', score=0.06202591583132744), TextClassificationOutputElement(label='Very Positive', score=0.03479023650288582)]\n",
            "[TextClassificationOutputElement(label='Positive', score=0.4053783118724823), TextClassificationOutputElement(label='Neutral', score=0.2768028676509857), TextClassificationOutputElement(label='Very Positive', score=0.23038682341575623), TextClassificationOutputElement(label='Negative', score=0.05554822087287903), TextClassificationOutputElement(label='Very Negative', score=0.031883787363767624)]\n",
            "[TextClassificationOutputElement(label='Very Positive', score=0.4684820771217346), TextClassificationOutputElement(label='Positive', score=0.4202265441417694), TextClassificationOutputElement(label='Neutral', score=0.06353181600570679), TextClassificationOutputElement(label='Negative', score=0.02436823956668377), TextClassificationOutputElement(label='Very Negative', score=0.023391399532556534)]\n",
            "[TextClassificationOutputElement(label='Very Negative', score=0.5029285550117493), TextClassificationOutputElement(label='Negative', score=0.20500680804252625), TextClassificationOutputElement(label='Neutral', score=0.16391891241073608), TextClassificationOutputElement(label='Positive', score=0.06428862363100052), TextClassificationOutputElement(label='Very Positive', score=0.06385710835456848)]\n",
            "[TextClassificationOutputElement(label='Very Negative', score=0.31853941082954407), TextClassificationOutputElement(label='Very Positive', score=0.2058701515197754), TextClassificationOutputElement(label='Negative', score=0.16738949716091156), TextClassificationOutputElement(label='Neutral', score=0.16546300053596497), TextClassificationOutputElement(label='Positive', score=0.14273792505264282)]\n",
            "[TextClassificationOutputElement(label='Neutral', score=0.6135120987892151), TextClassificationOutputElement(label='Negative', score=0.20263352990150452), TextClassificationOutputElement(label='Very Negative', score=0.07765546441078186), TextClassificationOutputElement(label='Positive', score=0.07639716565608978), TextClassificationOutputElement(label='Very Positive', score=0.02980167604982853)]\n",
            "[TextClassificationOutputElement(label='Negative', score=0.38739821314811707), TextClassificationOutputElement(label='Very Negative', score=0.35363006591796875), TextClassificationOutputElement(label='Neutral', score=0.2006053626537323), TextClassificationOutputElement(label='Positive', score=0.03736584633588791), TextClassificationOutputElement(label='Very Positive', score=0.02100049890577793)]\n",
            "[TextClassificationOutputElement(label='Neutral', score=0.41393205523490906), TextClassificationOutputElement(label='Very Positive', score=0.28132668137550354), TextClassificationOutputElement(label='Positive', score=0.20347175002098083), TextClassificationOutputElement(label='Negative', score=0.06417245417833328), TextClassificationOutputElement(label='Very Negative', score=0.03709711879491806)]\n",
            "[TextClassificationOutputElement(label='Very Positive', score=0.601233720779419), TextClassificationOutputElement(label='Positive', score=0.2785736918449402), TextClassificationOutputElement(label='Neutral', score=0.062044642865657806), TextClassificationOutputElement(label='Very Negative', score=0.03052600286900997), TextClassificationOutputElement(label='Negative', score=0.02762194164097309)]\n",
            "[TextClassificationOutputElement(label='Positive', score=0.6513209342956543), TextClassificationOutputElement(label='Very Positive', score=0.18358536064624786), TextClassificationOutputElement(label='Neutral', score=0.11649034172296524), TextClassificationOutputElement(label='Negative', score=0.02891436032950878), TextClassificationOutputElement(label='Very Negative', score=0.0196890477091074)]\n",
            "[TextClassificationOutputElement(label='Neutral', score=0.5697055459022522), TextClassificationOutputElement(label='Negative', score=0.23460759222507477), TextClassificationOutputElement(label='Positive', score=0.10397269576787949), TextClassificationOutputElement(label='Very Negative', score=0.04755546525120735), TextClassificationOutputElement(label='Very Positive', score=0.044158685952425)]\n",
            "[TextClassificationOutputElement(label='Positive', score=0.4384534955024719), TextClassificationOutputElement(label='Very Positive', score=0.26327627897262573), TextClassificationOutputElement(label='Neutral', score=0.19158229231834412), TextClassificationOutputElement(label='Negative', score=0.06453876942396164), TextClassificationOutputElement(label='Very Negative', score=0.04214921221137047)]\n",
            "[TextClassificationOutputElement(label='Very Negative', score=0.34583431482315063), TextClassificationOutputElement(label='Negative', score=0.2961762249469757), TextClassificationOutputElement(label='Neutral', score=0.23406845331192017), TextClassificationOutputElement(label='Positive', score=0.06349152326583862), TextClassificationOutputElement(label='Very Positive', score=0.06042954698204994)]\n",
            "[TextClassificationOutputElement(label='Negative', score=0.47325000166893005), TextClassificationOutputElement(label='Very Negative', score=0.3032212555408478), TextClassificationOutputElement(label='Neutral', score=0.12490836530923843), TextClassificationOutputElement(label='Positive', score=0.058741841465234756), TextClassificationOutputElement(label='Very Positive', score=0.03987856209278107)]\n",
            "[TextClassificationOutputElement(label='Positive', score=0.37785032391548157), TextClassificationOutputElement(label='Very Positive', score=0.24763187766075134), TextClassificationOutputElement(label='Neutral', score=0.21091318130493164), TextClassificationOutputElement(label='Negative', score=0.10459151118993759), TextClassificationOutputElement(label='Very Negative', score=0.05901315063238144)]\n",
            "[TextClassificationOutputElement(label='Positive', score=0.40565311908721924), TextClassificationOutputElement(label='Very Positive', score=0.39004993438720703), TextClassificationOutputElement(label='Neutral', score=0.13416925072669983), TextClassificationOutputElement(label='Very Negative', score=0.03735122084617615), TextClassificationOutputElement(label='Negative', score=0.03277643024921417)]\n",
            "[TextClassificationOutputElement(label='Very Positive', score=0.39992645382881165), TextClassificationOutputElement(label='Positive', score=0.39118918776512146), TextClassificationOutputElement(label='Neutral', score=0.15636365115642548), TextClassificationOutputElement(label='Negative', score=0.031027914956212044), TextClassificationOutputElement(label='Very Negative', score=0.021492844447493553)]\n",
            "[TextClassificationOutputElement(label='Very Negative', score=0.47712376713752747), TextClassificationOutputElement(label='Negative', score=0.2993592321872711), TextClassificationOutputElement(label='Neutral', score=0.10721777379512787), TextClassificationOutputElement(label='Positive', score=0.05878198519349098), TextClassificationOutputElement(label='Very Positive', score=0.05751718953251839)]\n",
            "[TextClassificationOutputElement(label='Positive', score=0.31769657135009766), TextClassificationOutputElement(label='Neutral', score=0.30328014492988586), TextClassificationOutputElement(label='Negative', score=0.15399333834648132), TextClassificationOutputElement(label='Very Positive', score=0.12720009684562683), TextClassificationOutputElement(label='Very Negative', score=0.09782988578081131)]\n",
            "[TextClassificationOutputElement(label='Neutral', score=0.5961176753044128), TextClassificationOutputElement(label='Positive', score=0.17218753695487976), TextClassificationOutputElement(label='Negative', score=0.14991553127765656), TextClassificationOutputElement(label='Very Negative', score=0.04395949840545654), TextClassificationOutputElement(label='Very Positive', score=0.03781982511281967)]\n",
            "[TextClassificationOutputElement(label='Neutral', score=0.4529508948326111), TextClassificationOutputElement(label='Positive', score=0.1988459825515747), TextClassificationOutputElement(label='Negative', score=0.16585475206375122), TextClassificationOutputElement(label='Very Positive', score=0.1087367907166481), TextClassificationOutputElement(label='Very Negative', score=0.07361157238483429)]\n",
            "[TextClassificationOutputElement(label='Very Positive', score=0.5187163352966309), TextClassificationOutputElement(label='Positive', score=0.3138655722141266), TextClassificationOutputElement(label='Neutral', score=0.11099634319543839), TextClassificationOutputElement(label='Negative', score=0.03267849609255791), TextClassificationOutputElement(label='Very Negative', score=0.023743262514472008)]\n"
          ]
        },
        {
          "ename": "KeyboardInterrupt",
          "evalue": "",
          "output_type": "error",
          "traceback": [
            "\u001b[31m---------------------------------------------------------------------------\u001b[39m",
            "\u001b[31mKeyboardInterrupt\u001b[39m                         Traceback (most recent call last)",
            "\u001b[36mCell\u001b[39m\u001b[36m \u001b[39m\u001b[32mIn[9]\u001b[39m\u001b[32m, line 13\u001b[39m\n\u001b[32m     11\u001b[39m   \u001b[38;5;28mprint\u001b[39m(result)\n\u001b[32m     12\u001b[39m \u001b[38;5;28;01melse\u001b[39;00m:\n\u001b[32m---> \u001b[39m\u001b[32m13\u001b[39m   result = \u001b[43mclient\u001b[49m\u001b[43m.\u001b[49m\u001b[43mtext_classification\u001b[49m\u001b[43m(\u001b[49m\u001b[43m(\u001b[49m\u001b[43mgame_df\u001b[49m\u001b[43m[\u001b[49m\u001b[33;43m\"\u001b[39;49m\u001b[33;43mreview\u001b[39;49m\u001b[33;43m\"\u001b[39;49m\u001b[43m]\u001b[49m\u001b[43m.\u001b[49m\u001b[43miloc\u001b[49m\u001b[43m[\u001b[49m\u001b[43mi\u001b[49m\u001b[43m]\u001b[49m\u001b[43m)\u001b[49m\u001b[43m,\u001b[49m\u001b[43mmodel\u001b[49m\u001b[43m=\u001b[49m\u001b[33;43m\"\u001b[39;49m\u001b[33;43mtabularisai/multilingual-sentiment-analysis\u001b[39;49m\u001b[33;43m\"\u001b[39;49m\u001b[43m)\u001b[49m\n\u001b[32m     14\u001b[39m   \u001b[38;5;28mprint\u001b[39m(result)\n\u001b[32m     15\u001b[39m max_result = \u001b[38;5;28mmax\u001b[39m(result,key=\u001b[38;5;28;01mlambda\u001b[39;00m x: x[\u001b[33m\"\u001b[39m\u001b[33mscore\u001b[39m\u001b[33m\"\u001b[39m])\n",
            "\u001b[36mFile \u001b[39m\u001b[32m~/Desktop/my_lambda_docker/.venv/lib/python3.12/site-packages/huggingface_hub/inference/_client.py:1932\u001b[39m, in \u001b[36mInferenceClient.text_classification\u001b[39m\u001b[34m(self, text, model, top_k, function_to_apply)\u001b[39m\n\u001b[32m   1921\u001b[39m provider_helper = get_provider_helper(\u001b[38;5;28mself\u001b[39m.provider, task=\u001b[33m\"\u001b[39m\u001b[33mtext-classification\u001b[39m\u001b[33m\"\u001b[39m, model=model_id)\n\u001b[32m   1922\u001b[39m request_parameters = provider_helper.prepare_request(\n\u001b[32m   1923\u001b[39m     inputs=text,\n\u001b[32m   1924\u001b[39m     parameters={\n\u001b[32m   (...)\u001b[39m\u001b[32m   1930\u001b[39m     api_key=\u001b[38;5;28mself\u001b[39m.token,\n\u001b[32m   1931\u001b[39m )\n\u001b[32m-> \u001b[39m\u001b[32m1932\u001b[39m response = \u001b[38;5;28;43mself\u001b[39;49m\u001b[43m.\u001b[49m\u001b[43m_inner_post\u001b[49m\u001b[43m(\u001b[49m\u001b[43mrequest_parameters\u001b[49m\u001b[43m)\u001b[49m\n\u001b[32m   1933\u001b[39m \u001b[38;5;28;01mreturn\u001b[39;00m TextClassificationOutputElement.parse_obj_as_list(response)[\u001b[32m0\u001b[39m]\n",
            "\u001b[36mFile \u001b[39m\u001b[32m~/Desktop/my_lambda_docker/.venv/lib/python3.12/site-packages/huggingface_hub/inference/_client.py:260\u001b[39m, in \u001b[36mInferenceClient._inner_post\u001b[39m\u001b[34m(self, request_parameters, stream)\u001b[39m\n\u001b[32m    257\u001b[39m     request_parameters.headers[\u001b[33m\"\u001b[39m\u001b[33mAccept\u001b[39m\u001b[33m\"\u001b[39m] = \u001b[33m\"\u001b[39m\u001b[33mimage/png\u001b[39m\u001b[33m\"\u001b[39m\n\u001b[32m    259\u001b[39m \u001b[38;5;28;01mtry\u001b[39;00m:\n\u001b[32m--> \u001b[39m\u001b[32m260\u001b[39m     response = \u001b[43mget_session\u001b[49m\u001b[43m(\u001b[49m\u001b[43m)\u001b[49m\u001b[43m.\u001b[49m\u001b[43mpost\u001b[49m\u001b[43m(\u001b[49m\n\u001b[32m    261\u001b[39m \u001b[43m        \u001b[49m\u001b[43mrequest_parameters\u001b[49m\u001b[43m.\u001b[49m\u001b[43murl\u001b[49m\u001b[43m,\u001b[49m\n\u001b[32m    262\u001b[39m \u001b[43m        \u001b[49m\u001b[43mjson\u001b[49m\u001b[43m=\u001b[49m\u001b[43mrequest_parameters\u001b[49m\u001b[43m.\u001b[49m\u001b[43mjson\u001b[49m\u001b[43m,\u001b[49m\n\u001b[32m    263\u001b[39m \u001b[43m        \u001b[49m\u001b[43mdata\u001b[49m\u001b[43m=\u001b[49m\u001b[43mrequest_parameters\u001b[49m\u001b[43m.\u001b[49m\u001b[43mdata\u001b[49m\u001b[43m,\u001b[49m\n\u001b[32m    264\u001b[39m \u001b[43m        \u001b[49m\u001b[43mheaders\u001b[49m\u001b[43m=\u001b[49m\u001b[43mrequest_parameters\u001b[49m\u001b[43m.\u001b[49m\u001b[43mheaders\u001b[49m\u001b[43m,\u001b[49m\n\u001b[32m    265\u001b[39m \u001b[43m        \u001b[49m\u001b[43mcookies\u001b[49m\u001b[43m=\u001b[49m\u001b[38;5;28;43mself\u001b[39;49m\u001b[43m.\u001b[49m\u001b[43mcookies\u001b[49m\u001b[43m,\u001b[49m\n\u001b[32m    266\u001b[39m \u001b[43m        \u001b[49m\u001b[43mtimeout\u001b[49m\u001b[43m=\u001b[49m\u001b[38;5;28;43mself\u001b[39;49m\u001b[43m.\u001b[49m\u001b[43mtimeout\u001b[49m\u001b[43m,\u001b[49m\n\u001b[32m    267\u001b[39m \u001b[43m        \u001b[49m\u001b[43mstream\u001b[49m\u001b[43m=\u001b[49m\u001b[43mstream\u001b[49m\u001b[43m,\u001b[49m\n\u001b[32m    268\u001b[39m \u001b[43m        \u001b[49m\u001b[43mproxies\u001b[49m\u001b[43m=\u001b[49m\u001b[38;5;28;43mself\u001b[39;49m\u001b[43m.\u001b[49m\u001b[43mproxies\u001b[49m\u001b[43m,\u001b[49m\n\u001b[32m    269\u001b[39m \u001b[43m    \u001b[49m\u001b[43m)\u001b[49m\n\u001b[32m    270\u001b[39m \u001b[38;5;28;01mexcept\u001b[39;00m \u001b[38;5;167;01mTimeoutError\u001b[39;00m \u001b[38;5;28;01mas\u001b[39;00m error:\n\u001b[32m    271\u001b[39m     \u001b[38;5;66;03m# Convert any `TimeoutError` to a `InferenceTimeoutError`\u001b[39;00m\n\u001b[32m    272\u001b[39m     \u001b[38;5;28;01mraise\u001b[39;00m InferenceTimeoutError(\u001b[33mf\u001b[39m\u001b[33m\"\u001b[39m\u001b[33mInference call timed out: \u001b[39m\u001b[38;5;132;01m{\u001b[39;00mrequest_parameters.url\u001b[38;5;132;01m}\u001b[39;00m\u001b[33m\"\u001b[39m) \u001b[38;5;28;01mfrom\u001b[39;00m\u001b[38;5;250m \u001b[39m\u001b[34;01merror\u001b[39;00m  \u001b[38;5;66;03m# type: ignore\u001b[39;00m\n",
            "\u001b[36mFile \u001b[39m\u001b[32m~/Desktop/my_lambda_docker/.venv/lib/python3.12/site-packages/requests/sessions.py:637\u001b[39m, in \u001b[36mSession.post\u001b[39m\u001b[34m(self, url, data, json, **kwargs)\u001b[39m\n\u001b[32m    626\u001b[39m \u001b[38;5;28;01mdef\u001b[39;00m\u001b[38;5;250m \u001b[39m\u001b[34mpost\u001b[39m(\u001b[38;5;28mself\u001b[39m, url, data=\u001b[38;5;28;01mNone\u001b[39;00m, json=\u001b[38;5;28;01mNone\u001b[39;00m, **kwargs):\n\u001b[32m    627\u001b[39m \u001b[38;5;250m    \u001b[39m\u001b[33mr\u001b[39m\u001b[33;03m\"\"\"Sends a POST request. Returns :class:`Response` object.\u001b[39;00m\n\u001b[32m    628\u001b[39m \n\u001b[32m    629\u001b[39m \u001b[33;03m    :param url: URL for the new :class:`Request` object.\u001b[39;00m\n\u001b[32m   (...)\u001b[39m\u001b[32m    634\u001b[39m \u001b[33;03m    :rtype: requests.Response\u001b[39;00m\n\u001b[32m    635\u001b[39m \u001b[33;03m    \"\"\"\u001b[39;00m\n\u001b[32m--> \u001b[39m\u001b[32m637\u001b[39m     \u001b[38;5;28;01mreturn\u001b[39;00m \u001b[38;5;28;43mself\u001b[39;49m\u001b[43m.\u001b[49m\u001b[43mrequest\u001b[49m\u001b[43m(\u001b[49m\u001b[33;43m\"\u001b[39;49m\u001b[33;43mPOST\u001b[39;49m\u001b[33;43m\"\u001b[39;49m\u001b[43m,\u001b[49m\u001b[43m \u001b[49m\u001b[43murl\u001b[49m\u001b[43m,\u001b[49m\u001b[43m \u001b[49m\u001b[43mdata\u001b[49m\u001b[43m=\u001b[49m\u001b[43mdata\u001b[49m\u001b[43m,\u001b[49m\u001b[43m \u001b[49m\u001b[43mjson\u001b[49m\u001b[43m=\u001b[49m\u001b[43mjson\u001b[49m\u001b[43m,\u001b[49m\u001b[43m \u001b[49m\u001b[43m*\u001b[49m\u001b[43m*\u001b[49m\u001b[43mkwargs\u001b[49m\u001b[43m)\u001b[49m\n",
            "\u001b[36mFile \u001b[39m\u001b[32m~/Desktop/my_lambda_docker/.venv/lib/python3.12/site-packages/requests/sessions.py:589\u001b[39m, in \u001b[36mSession.request\u001b[39m\u001b[34m(self, method, url, params, data, headers, cookies, files, auth, timeout, allow_redirects, proxies, hooks, stream, verify, cert, json)\u001b[39m\n\u001b[32m    584\u001b[39m send_kwargs = {\n\u001b[32m    585\u001b[39m     \u001b[33m\"\u001b[39m\u001b[33mtimeout\u001b[39m\u001b[33m\"\u001b[39m: timeout,\n\u001b[32m    586\u001b[39m     \u001b[33m\"\u001b[39m\u001b[33mallow_redirects\u001b[39m\u001b[33m\"\u001b[39m: allow_redirects,\n\u001b[32m    587\u001b[39m }\n\u001b[32m    588\u001b[39m send_kwargs.update(settings)\n\u001b[32m--> \u001b[39m\u001b[32m589\u001b[39m resp = \u001b[38;5;28;43mself\u001b[39;49m\u001b[43m.\u001b[49m\u001b[43msend\u001b[49m\u001b[43m(\u001b[49m\u001b[43mprep\u001b[49m\u001b[43m,\u001b[49m\u001b[43m \u001b[49m\u001b[43m*\u001b[49m\u001b[43m*\u001b[49m\u001b[43msend_kwargs\u001b[49m\u001b[43m)\u001b[49m\n\u001b[32m    591\u001b[39m \u001b[38;5;28;01mreturn\u001b[39;00m resp\n",
            "\u001b[36mFile \u001b[39m\u001b[32m~/Desktop/my_lambda_docker/.venv/lib/python3.12/site-packages/requests/sessions.py:703\u001b[39m, in \u001b[36mSession.send\u001b[39m\u001b[34m(self, request, **kwargs)\u001b[39m\n\u001b[32m    700\u001b[39m start = preferred_clock()\n\u001b[32m    702\u001b[39m \u001b[38;5;66;03m# Send the request\u001b[39;00m\n\u001b[32m--> \u001b[39m\u001b[32m703\u001b[39m r = \u001b[43madapter\u001b[49m\u001b[43m.\u001b[49m\u001b[43msend\u001b[49m\u001b[43m(\u001b[49m\u001b[43mrequest\u001b[49m\u001b[43m,\u001b[49m\u001b[43m \u001b[49m\u001b[43m*\u001b[49m\u001b[43m*\u001b[49m\u001b[43mkwargs\u001b[49m\u001b[43m)\u001b[49m\n\u001b[32m    705\u001b[39m \u001b[38;5;66;03m# Total elapsed time of the request (approximately)\u001b[39;00m\n\u001b[32m    706\u001b[39m elapsed = preferred_clock() - start\n",
            "\u001b[36mFile \u001b[39m\u001b[32m~/Desktop/my_lambda_docker/.venv/lib/python3.12/site-packages/huggingface_hub/utils/_http.py:95\u001b[39m, in \u001b[36mUniqueRequestIdAdapter.send\u001b[39m\u001b[34m(self, request, *args, **kwargs)\u001b[39m\n\u001b[32m     93\u001b[39m     logger.debug(\u001b[33mf\u001b[39m\u001b[33m\"\u001b[39m\u001b[33mSend: \u001b[39m\u001b[38;5;132;01m{\u001b[39;00m_curlify(request)\u001b[38;5;132;01m}\u001b[39;00m\u001b[33m\"\u001b[39m)\n\u001b[32m     94\u001b[39m \u001b[38;5;28;01mtry\u001b[39;00m:\n\u001b[32m---> \u001b[39m\u001b[32m95\u001b[39m     \u001b[38;5;28;01mreturn\u001b[39;00m \u001b[38;5;28;43msuper\u001b[39;49m\u001b[43m(\u001b[49m\u001b[43m)\u001b[49m\u001b[43m.\u001b[49m\u001b[43msend\u001b[49m\u001b[43m(\u001b[49m\u001b[43mrequest\u001b[49m\u001b[43m,\u001b[49m\u001b[43m \u001b[49m\u001b[43m*\u001b[49m\u001b[43margs\u001b[49m\u001b[43m,\u001b[49m\u001b[43m \u001b[49m\u001b[43m*\u001b[49m\u001b[43m*\u001b[49m\u001b[43mkwargs\u001b[49m\u001b[43m)\u001b[49m\n\u001b[32m     96\u001b[39m \u001b[38;5;28;01mexcept\u001b[39;00m requests.RequestException \u001b[38;5;28;01mas\u001b[39;00m e:\n\u001b[32m     97\u001b[39m     request_id = request.headers.get(X_AMZN_TRACE_ID)\n",
            "\u001b[36mFile \u001b[39m\u001b[32m~/Desktop/my_lambda_docker/.venv/lib/python3.12/site-packages/requests/adapters.py:644\u001b[39m, in \u001b[36mHTTPAdapter.send\u001b[39m\u001b[34m(self, request, stream, timeout, verify, cert, proxies)\u001b[39m\n\u001b[32m    641\u001b[39m     timeout = TimeoutSauce(connect=timeout, read=timeout)\n\u001b[32m    643\u001b[39m \u001b[38;5;28;01mtry\u001b[39;00m:\n\u001b[32m--> \u001b[39m\u001b[32m644\u001b[39m     resp = \u001b[43mconn\u001b[49m\u001b[43m.\u001b[49m\u001b[43murlopen\u001b[49m\u001b[43m(\u001b[49m\n\u001b[32m    645\u001b[39m \u001b[43m        \u001b[49m\u001b[43mmethod\u001b[49m\u001b[43m=\u001b[49m\u001b[43mrequest\u001b[49m\u001b[43m.\u001b[49m\u001b[43mmethod\u001b[49m\u001b[43m,\u001b[49m\n\u001b[32m    646\u001b[39m \u001b[43m        \u001b[49m\u001b[43murl\u001b[49m\u001b[43m=\u001b[49m\u001b[43murl\u001b[49m\u001b[43m,\u001b[49m\n\u001b[32m    647\u001b[39m \u001b[43m        \u001b[49m\u001b[43mbody\u001b[49m\u001b[43m=\u001b[49m\u001b[43mrequest\u001b[49m\u001b[43m.\u001b[49m\u001b[43mbody\u001b[49m\u001b[43m,\u001b[49m\n\u001b[32m    648\u001b[39m \u001b[43m        \u001b[49m\u001b[43mheaders\u001b[49m\u001b[43m=\u001b[49m\u001b[43mrequest\u001b[49m\u001b[43m.\u001b[49m\u001b[43mheaders\u001b[49m\u001b[43m,\u001b[49m\n\u001b[32m    649\u001b[39m \u001b[43m        \u001b[49m\u001b[43mredirect\u001b[49m\u001b[43m=\u001b[49m\u001b[38;5;28;43;01mFalse\u001b[39;49;00m\u001b[43m,\u001b[49m\n\u001b[32m    650\u001b[39m \u001b[43m        \u001b[49m\u001b[43massert_same_host\u001b[49m\u001b[43m=\u001b[49m\u001b[38;5;28;43;01mFalse\u001b[39;49;00m\u001b[43m,\u001b[49m\n\u001b[32m    651\u001b[39m \u001b[43m        \u001b[49m\u001b[43mpreload_content\u001b[49m\u001b[43m=\u001b[49m\u001b[38;5;28;43;01mFalse\u001b[39;49;00m\u001b[43m,\u001b[49m\n\u001b[32m    652\u001b[39m \u001b[43m        \u001b[49m\u001b[43mdecode_content\u001b[49m\u001b[43m=\u001b[49m\u001b[38;5;28;43;01mFalse\u001b[39;49;00m\u001b[43m,\u001b[49m\n\u001b[32m    653\u001b[39m \u001b[43m        \u001b[49m\u001b[43mretries\u001b[49m\u001b[43m=\u001b[49m\u001b[38;5;28;43mself\u001b[39;49m\u001b[43m.\u001b[49m\u001b[43mmax_retries\u001b[49m\u001b[43m,\u001b[49m\n\u001b[32m    654\u001b[39m \u001b[43m        \u001b[49m\u001b[43mtimeout\u001b[49m\u001b[43m=\u001b[49m\u001b[43mtimeout\u001b[49m\u001b[43m,\u001b[49m\n\u001b[32m    655\u001b[39m \u001b[43m        \u001b[49m\u001b[43mchunked\u001b[49m\u001b[43m=\u001b[49m\u001b[43mchunked\u001b[49m\u001b[43m,\u001b[49m\n\u001b[32m    656\u001b[39m \u001b[43m    \u001b[49m\u001b[43m)\u001b[49m\n\u001b[32m    658\u001b[39m \u001b[38;5;28;01mexcept\u001b[39;00m (ProtocolError, \u001b[38;5;167;01mOSError\u001b[39;00m) \u001b[38;5;28;01mas\u001b[39;00m err:\n\u001b[32m    659\u001b[39m     \u001b[38;5;28;01mraise\u001b[39;00m \u001b[38;5;167;01mConnectionError\u001b[39;00m(err, request=request)\n",
            "\u001b[36mFile \u001b[39m\u001b[32m~/Desktop/my_lambda_docker/.venv/lib/python3.12/site-packages/urllib3/connectionpool.py:787\u001b[39m, in \u001b[36mHTTPConnectionPool.urlopen\u001b[39m\u001b[34m(self, method, url, body, headers, retries, redirect, assert_same_host, timeout, pool_timeout, release_conn, chunked, body_pos, preload_content, decode_content, **response_kw)\u001b[39m\n\u001b[32m    784\u001b[39m response_conn = conn \u001b[38;5;28;01mif\u001b[39;00m \u001b[38;5;129;01mnot\u001b[39;00m release_conn \u001b[38;5;28;01melse\u001b[39;00m \u001b[38;5;28;01mNone\u001b[39;00m\n\u001b[32m    786\u001b[39m \u001b[38;5;66;03m# Make the request on the HTTPConnection object\u001b[39;00m\n\u001b[32m--> \u001b[39m\u001b[32m787\u001b[39m response = \u001b[38;5;28;43mself\u001b[39;49m\u001b[43m.\u001b[49m\u001b[43m_make_request\u001b[49m\u001b[43m(\u001b[49m\n\u001b[32m    788\u001b[39m \u001b[43m    \u001b[49m\u001b[43mconn\u001b[49m\u001b[43m,\u001b[49m\n\u001b[32m    789\u001b[39m \u001b[43m    \u001b[49m\u001b[43mmethod\u001b[49m\u001b[43m,\u001b[49m\n\u001b[32m    790\u001b[39m \u001b[43m    \u001b[49m\u001b[43murl\u001b[49m\u001b[43m,\u001b[49m\n\u001b[32m    791\u001b[39m \u001b[43m    \u001b[49m\u001b[43mtimeout\u001b[49m\u001b[43m=\u001b[49m\u001b[43mtimeout_obj\u001b[49m\u001b[43m,\u001b[49m\n\u001b[32m    792\u001b[39m \u001b[43m    \u001b[49m\u001b[43mbody\u001b[49m\u001b[43m=\u001b[49m\u001b[43mbody\u001b[49m\u001b[43m,\u001b[49m\n\u001b[32m    793\u001b[39m \u001b[43m    \u001b[49m\u001b[43mheaders\u001b[49m\u001b[43m=\u001b[49m\u001b[43mheaders\u001b[49m\u001b[43m,\u001b[49m\n\u001b[32m    794\u001b[39m \u001b[43m    \u001b[49m\u001b[43mchunked\u001b[49m\u001b[43m=\u001b[49m\u001b[43mchunked\u001b[49m\u001b[43m,\u001b[49m\n\u001b[32m    795\u001b[39m \u001b[43m    \u001b[49m\u001b[43mretries\u001b[49m\u001b[43m=\u001b[49m\u001b[43mretries\u001b[49m\u001b[43m,\u001b[49m\n\u001b[32m    796\u001b[39m \u001b[43m    \u001b[49m\u001b[43mresponse_conn\u001b[49m\u001b[43m=\u001b[49m\u001b[43mresponse_conn\u001b[49m\u001b[43m,\u001b[49m\n\u001b[32m    797\u001b[39m \u001b[43m    \u001b[49m\u001b[43mpreload_content\u001b[49m\u001b[43m=\u001b[49m\u001b[43mpreload_content\u001b[49m\u001b[43m,\u001b[49m\n\u001b[32m    798\u001b[39m \u001b[43m    \u001b[49m\u001b[43mdecode_content\u001b[49m\u001b[43m=\u001b[49m\u001b[43mdecode_content\u001b[49m\u001b[43m,\u001b[49m\n\u001b[32m    799\u001b[39m \u001b[43m    \u001b[49m\u001b[43m*\u001b[49m\u001b[43m*\u001b[49m\u001b[43mresponse_kw\u001b[49m\u001b[43m,\u001b[49m\n\u001b[32m    800\u001b[39m \u001b[43m\u001b[49m\u001b[43m)\u001b[49m\n\u001b[32m    802\u001b[39m \u001b[38;5;66;03m# Everything went great!\u001b[39;00m\n\u001b[32m    803\u001b[39m clean_exit = \u001b[38;5;28;01mTrue\u001b[39;00m\n",
            "\u001b[36mFile \u001b[39m\u001b[32m~/Desktop/my_lambda_docker/.venv/lib/python3.12/site-packages/urllib3/connectionpool.py:534\u001b[39m, in \u001b[36mHTTPConnectionPool._make_request\u001b[39m\u001b[34m(self, conn, method, url, body, headers, retries, timeout, chunked, response_conn, preload_content, decode_content, enforce_content_length)\u001b[39m\n\u001b[32m    532\u001b[39m \u001b[38;5;66;03m# Receive the response from the server\u001b[39;00m\n\u001b[32m    533\u001b[39m \u001b[38;5;28;01mtry\u001b[39;00m:\n\u001b[32m--> \u001b[39m\u001b[32m534\u001b[39m     response = \u001b[43mconn\u001b[49m\u001b[43m.\u001b[49m\u001b[43mgetresponse\u001b[49m\u001b[43m(\u001b[49m\u001b[43m)\u001b[49m\n\u001b[32m    535\u001b[39m \u001b[38;5;28;01mexcept\u001b[39;00m (BaseSSLError, \u001b[38;5;167;01mOSError\u001b[39;00m) \u001b[38;5;28;01mas\u001b[39;00m e:\n\u001b[32m    536\u001b[39m     \u001b[38;5;28mself\u001b[39m._raise_timeout(err=e, url=url, timeout_value=read_timeout)\n",
            "\u001b[36mFile \u001b[39m\u001b[32m~/Desktop/my_lambda_docker/.venv/lib/python3.12/site-packages/urllib3/connection.py:565\u001b[39m, in \u001b[36mHTTPConnection.getresponse\u001b[39m\u001b[34m(self)\u001b[39m\n\u001b[32m    562\u001b[39m _shutdown = \u001b[38;5;28mgetattr\u001b[39m(\u001b[38;5;28mself\u001b[39m.sock, \u001b[33m\"\u001b[39m\u001b[33mshutdown\u001b[39m\u001b[33m\"\u001b[39m, \u001b[38;5;28;01mNone\u001b[39;00m)\n\u001b[32m    564\u001b[39m \u001b[38;5;66;03m# Get the response from http.client.HTTPConnection\u001b[39;00m\n\u001b[32m--> \u001b[39m\u001b[32m565\u001b[39m httplib_response = \u001b[38;5;28;43msuper\u001b[39;49m\u001b[43m(\u001b[49m\u001b[43m)\u001b[49m\u001b[43m.\u001b[49m\u001b[43mgetresponse\u001b[49m\u001b[43m(\u001b[49m\u001b[43m)\u001b[49m\n\u001b[32m    567\u001b[39m \u001b[38;5;28;01mtry\u001b[39;00m:\n\u001b[32m    568\u001b[39m     assert_header_parsing(httplib_response.msg)\n",
            "\u001b[36mFile \u001b[39m\u001b[32m/Library/Frameworks/Python.framework/Versions/3.12/lib/python3.12/http/client.py:1428\u001b[39m, in \u001b[36mHTTPConnection.getresponse\u001b[39m\u001b[34m(self)\u001b[39m\n\u001b[32m   1426\u001b[39m \u001b[38;5;28;01mtry\u001b[39;00m:\n\u001b[32m   1427\u001b[39m     \u001b[38;5;28;01mtry\u001b[39;00m:\n\u001b[32m-> \u001b[39m\u001b[32m1428\u001b[39m         \u001b[43mresponse\u001b[49m\u001b[43m.\u001b[49m\u001b[43mbegin\u001b[49m\u001b[43m(\u001b[49m\u001b[43m)\u001b[49m\n\u001b[32m   1429\u001b[39m     \u001b[38;5;28;01mexcept\u001b[39;00m \u001b[38;5;167;01mConnectionError\u001b[39;00m:\n\u001b[32m   1430\u001b[39m         \u001b[38;5;28mself\u001b[39m.close()\n",
            "\u001b[36mFile \u001b[39m\u001b[32m/Library/Frameworks/Python.framework/Versions/3.12/lib/python3.12/http/client.py:331\u001b[39m, in \u001b[36mHTTPResponse.begin\u001b[39m\u001b[34m(self)\u001b[39m\n\u001b[32m    329\u001b[39m \u001b[38;5;66;03m# read until we get a non-100 response\u001b[39;00m\n\u001b[32m    330\u001b[39m \u001b[38;5;28;01mwhile\u001b[39;00m \u001b[38;5;28;01mTrue\u001b[39;00m:\n\u001b[32m--> \u001b[39m\u001b[32m331\u001b[39m     version, status, reason = \u001b[38;5;28;43mself\u001b[39;49m\u001b[43m.\u001b[49m\u001b[43m_read_status\u001b[49m\u001b[43m(\u001b[49m\u001b[43m)\u001b[49m\n\u001b[32m    332\u001b[39m     \u001b[38;5;28;01mif\u001b[39;00m status != CONTINUE:\n\u001b[32m    333\u001b[39m         \u001b[38;5;28;01mbreak\u001b[39;00m\n",
            "\u001b[36mFile \u001b[39m\u001b[32m/Library/Frameworks/Python.framework/Versions/3.12/lib/python3.12/http/client.py:292\u001b[39m, in \u001b[36mHTTPResponse._read_status\u001b[39m\u001b[34m(self)\u001b[39m\n\u001b[32m    291\u001b[39m \u001b[38;5;28;01mdef\u001b[39;00m\u001b[38;5;250m \u001b[39m\u001b[34m_read_status\u001b[39m(\u001b[38;5;28mself\u001b[39m):\n\u001b[32m--> \u001b[39m\u001b[32m292\u001b[39m     line = \u001b[38;5;28mstr\u001b[39m(\u001b[38;5;28;43mself\u001b[39;49m\u001b[43m.\u001b[49m\u001b[43mfp\u001b[49m\u001b[43m.\u001b[49m\u001b[43mreadline\u001b[49m\u001b[43m(\u001b[49m\u001b[43m_MAXLINE\u001b[49m\u001b[43m \u001b[49m\u001b[43m+\u001b[49m\u001b[43m \u001b[49m\u001b[32;43m1\u001b[39;49m\u001b[43m)\u001b[49m, \u001b[33m\"\u001b[39m\u001b[33miso-8859-1\u001b[39m\u001b[33m\"\u001b[39m)\n\u001b[32m    293\u001b[39m     \u001b[38;5;28;01mif\u001b[39;00m \u001b[38;5;28mlen\u001b[39m(line) > _MAXLINE:\n\u001b[32m    294\u001b[39m         \u001b[38;5;28;01mraise\u001b[39;00m LineTooLong(\u001b[33m\"\u001b[39m\u001b[33mstatus line\u001b[39m\u001b[33m\"\u001b[39m)\n",
            "\u001b[36mFile \u001b[39m\u001b[32m/Library/Frameworks/Python.framework/Versions/3.12/lib/python3.12/socket.py:720\u001b[39m, in \u001b[36mSocketIO.readinto\u001b[39m\u001b[34m(self, b)\u001b[39m\n\u001b[32m    718\u001b[39m \u001b[38;5;28;01mwhile\u001b[39;00m \u001b[38;5;28;01mTrue\u001b[39;00m:\n\u001b[32m    719\u001b[39m     \u001b[38;5;28;01mtry\u001b[39;00m:\n\u001b[32m--> \u001b[39m\u001b[32m720\u001b[39m         \u001b[38;5;28;01mreturn\u001b[39;00m \u001b[38;5;28;43mself\u001b[39;49m\u001b[43m.\u001b[49m\u001b[43m_sock\u001b[49m\u001b[43m.\u001b[49m\u001b[43mrecv_into\u001b[49m\u001b[43m(\u001b[49m\u001b[43mb\u001b[49m\u001b[43m)\u001b[49m\n\u001b[32m    721\u001b[39m     \u001b[38;5;28;01mexcept\u001b[39;00m timeout:\n\u001b[32m    722\u001b[39m         \u001b[38;5;28mself\u001b[39m._timeout_occurred = \u001b[38;5;28;01mTrue\u001b[39;00m\n",
            "\u001b[36mFile \u001b[39m\u001b[32m/Library/Frameworks/Python.framework/Versions/3.12/lib/python3.12/ssl.py:1251\u001b[39m, in \u001b[36mSSLSocket.recv_into\u001b[39m\u001b[34m(self, buffer, nbytes, flags)\u001b[39m\n\u001b[32m   1247\u001b[39m     \u001b[38;5;28;01mif\u001b[39;00m flags != \u001b[32m0\u001b[39m:\n\u001b[32m   1248\u001b[39m         \u001b[38;5;28;01mraise\u001b[39;00m \u001b[38;5;167;01mValueError\u001b[39;00m(\n\u001b[32m   1249\u001b[39m           \u001b[33m\"\u001b[39m\u001b[33mnon-zero flags not allowed in calls to recv_into() on \u001b[39m\u001b[38;5;132;01m%s\u001b[39;00m\u001b[33m\"\u001b[39m %\n\u001b[32m   1250\u001b[39m           \u001b[38;5;28mself\u001b[39m.\u001b[34m__class__\u001b[39m)\n\u001b[32m-> \u001b[39m\u001b[32m1251\u001b[39m     \u001b[38;5;28;01mreturn\u001b[39;00m \u001b[38;5;28;43mself\u001b[39;49m\u001b[43m.\u001b[49m\u001b[43mread\u001b[49m\u001b[43m(\u001b[49m\u001b[43mnbytes\u001b[49m\u001b[43m,\u001b[49m\u001b[43m \u001b[49m\u001b[43mbuffer\u001b[49m\u001b[43m)\u001b[49m\n\u001b[32m   1252\u001b[39m \u001b[38;5;28;01melse\u001b[39;00m:\n\u001b[32m   1253\u001b[39m     \u001b[38;5;28;01mreturn\u001b[39;00m \u001b[38;5;28msuper\u001b[39m().recv_into(buffer, nbytes, flags)\n",
            "\u001b[36mFile \u001b[39m\u001b[32m/Library/Frameworks/Python.framework/Versions/3.12/lib/python3.12/ssl.py:1103\u001b[39m, in \u001b[36mSSLSocket.read\u001b[39m\u001b[34m(self, len, buffer)\u001b[39m\n\u001b[32m   1101\u001b[39m \u001b[38;5;28;01mtry\u001b[39;00m:\n\u001b[32m   1102\u001b[39m     \u001b[38;5;28;01mif\u001b[39;00m buffer \u001b[38;5;129;01mis\u001b[39;00m \u001b[38;5;129;01mnot\u001b[39;00m \u001b[38;5;28;01mNone\u001b[39;00m:\n\u001b[32m-> \u001b[39m\u001b[32m1103\u001b[39m         \u001b[38;5;28;01mreturn\u001b[39;00m \u001b[38;5;28;43mself\u001b[39;49m\u001b[43m.\u001b[49m\u001b[43m_sslobj\u001b[49m\u001b[43m.\u001b[49m\u001b[43mread\u001b[49m\u001b[43m(\u001b[49m\u001b[38;5;28;43mlen\u001b[39;49m\u001b[43m,\u001b[49m\u001b[43m \u001b[49m\u001b[43mbuffer\u001b[49m\u001b[43m)\u001b[49m\n\u001b[32m   1104\u001b[39m     \u001b[38;5;28;01melse\u001b[39;00m:\n\u001b[32m   1105\u001b[39m         \u001b[38;5;28;01mreturn\u001b[39;00m \u001b[38;5;28mself\u001b[39m._sslobj.read(\u001b[38;5;28mlen\u001b[39m)\n",
            "\u001b[31mKeyboardInterrupt\u001b[39m: "
          ]
        }
      ],
      "source": [
        "unique_games = df[\"name\"].unique()\n",
        "empty_df = pd.DataFrame()\n",
        "for game in unique_games:\n",
        "  game_df = df[df[\"name\"]==game]\n",
        "  game_df = game_df.reset_index(drop=True)\n",
        "  #for each game cycle through the reviews row by row\n",
        "  for i in range(len(game_df)):\n",
        "    try:\n",
        "      if len(game_df[\"review\"].iloc[i])>512:\n",
        "        result = client.text_classification(game_df[\"review\"].iloc[i][:512],model=\"tabularisai/multilingual-sentiment-analysis\")\n",
        "        print(result)\n",
        "      else:\n",
        "        result = client.text_classification((game_df[\"review\"].iloc[i]),model=\"tabularisai/multilingual-sentiment-analysis\")\n",
        "        print(result)\n",
        "      max_result = max(result,key=lambda x: x[\"score\"])\n",
        "      game_df.loc[i,\"sentiment\"] = max_result[\"label\"]\n",
        "    except Exception as e:\n",
        "        print(game_df.iloc[i])\n",
        "        print(\"Error\",e)\n",
        "  ##Once the rows have been populated, append this dataframe to the empty dataframe\n",
        "  empty_df = pd.concat([empty_df,game_df],ignore_index=True)"
      ]
    },
    {
      "cell_type": "code",
      "execution_count": 7,
      "metadata": {},
      "outputs": [
        {
          "data": {
            "text/html": [
              "<div>\n",
              "<style scoped>\n",
              "    .dataframe tbody tr th:only-of-type {\n",
              "        vertical-align: middle;\n",
              "    }\n",
              "\n",
              "    .dataframe tbody tr th {\n",
              "        vertical-align: top;\n",
              "    }\n",
              "\n",
              "    .dataframe thead th {\n",
              "        text-align: right;\n",
              "    }\n",
              "</style>\n",
              "<table border=\"1\" class=\"dataframe\">\n",
              "  <thead>\n",
              "    <tr style=\"text-align: right;\">\n",
              "      <th></th>\n",
              "    </tr>\n",
              "  </thead>\n",
              "  <tbody>\n",
              "  </tbody>\n",
              "</table>\n",
              "</div>"
            ],
            "text/plain": [
              "Empty DataFrame\n",
              "Columns: []\n",
              "Index: []"
            ]
          },
          "execution_count": 7,
          "metadata": {},
          "output_type": "execute_result"
        }
      ],
      "source": [
        "empty_df"
      ]
    },
    {
      "cell_type": "code",
      "execution_count": null,
      "metadata": {
        "id": "LAbtgw86udtL"
      },
      "outputs": [],
      "source": [
        "path = \"s3://vgsa/gold/sentiment_analysis_result/sentiment.parquet\"\n",
        "fs = s3fs.S3FileSystem(\n",
        "    key=aws_access_key_id,\n",
        "    secret=aws_secret_access_key)\n",
        "empty_df.to_parquet(path,filesystem=fs,index=False)"
      ]
    },
    {
      "cell_type": "code",
      "execution_count": 5,
      "metadata": {},
      "outputs": [],
      "source": [
        "import boto3\n",
        "import pandas as pd\n",
        "import s3fs\n",
        "import os\n",
        "from huggingface_hub import InferenceClient\n",
        "\n",
        "s3 = boto3.client(\"s3\")\n",
        "client = boto3.client(\"secretsmanager\")\n",
        "fs = s3fs.S3FileSystem()\n",
        "\n",
        "bucket_name = \"vgsa\"\n",
        "file_path = \"s3://vgsa/silver/silver_tables_dbt_result/games_sentiment_analysis_silver/top_selling_games_reviews/4488e75a-9522-4ad0-9dee-1e3d32d603e0/20251009_143214_00071_275s7_7642792d-3177-448a-b15b-d53156c8d51e\"\n",
        "df = pd.read_parquet(file_path,filesystem=fs)\n",
        "\n",
        "#Read the hugginface token\n",
        "secret_name = \"hf_token\"\n",
        "response = client.get_secret_value(SecretId=secret_name)\n",
        "hf_token = response[\"SecretString\"]\n",
        "os.environ[\"HF_TOKEN\"] = hf_token\n",
        "client = InferenceClient(provider=\"auto\",api_key=os.environ[\"HF_TOKEN\"])\n",
        "# Load model\n",
        "batch_size=20\n",
        "df[\"review_new\"] = df[\"review\"].apply(lambda x: x[:512] if len(x)>512 else x)"
      ]
    },
    {
      "cell_type": "code",
      "execution_count": 8,
      "metadata": {},
      "outputs": [],
      "source": [
        "##Now perform classification in batches\n",
        "for a in range(0, len(df), batch_size):\n",
        "    batch = df[\"review_new\"].iloc[a:a+batch_size].tolist()\n",
        "    results = client.text_classification(batch, model=\"tabularisai/multilingual-sentiment-analysis\")\n",
        "    results_label = [i[\"label\"] for i in results]\n",
        "    df.loc[a:a+batch_size-1,\"sentiment\"] = results_label"
      ]
    }
  ],
  "metadata": {
    "accelerator": "GPU",
    "colab": {
      "gpuType": "T4",
      "machine_shape": "hm",
      "provenance": []
    },
    "kaggle": {
      "accelerator": "gpu"
    },
    "kernelspec": {
      "display_name": ".venv",
      "language": "python",
      "name": "python3"
    },
    "language_info": {
      "codemirror_mode": {
        "name": "ipython",
        "version": 3
      },
      "file_extension": ".py",
      "mimetype": "text/x-python",
      "name": "python",
      "nbconvert_exporter": "python",
      "pygments_lexer": "ipython3",
      "version": "3.12.7"
    }
  },
  "nbformat": 4,
  "nbformat_minor": 0
}
